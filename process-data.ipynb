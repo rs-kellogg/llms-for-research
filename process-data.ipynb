{
 "cells": [
  {
   "cell_type": "markdown",
   "id": "14d1641b",
   "metadata": {},
   "source": [
    "# Data Processing Demo"
   ]
  },
  {
   "cell_type": "code",
   "execution_count": null,
   "id": "cee4c63c",
   "metadata": {},
   "outputs": [],
   "source": [
    "from pathlib import Path\n",
    "import llm\n",
    "import json\n",
    "from pydantic import BaseModel\n",
    "from typing import Literal"
   ]
  },
  {
   "cell_type": "markdown",
   "id": "e05408d1",
   "metadata": {},
   "source": [
    "## Load and Parse the Datafile"
   ]
  },
  {
   "cell_type": "code",
   "execution_count": 2,
   "id": "438832b7",
   "metadata": {},
   "outputs": [],
   "source": [
    "data_file = Path(\"./data/Copy_of_2306_SDA_Story.txt\")\n",
    "assert data_file.exists(), f\"Data file {data_file} does not exist.\"\n",
    "data = data_file.read_text(encoding=\"utf-8\")"
   ]
  },
  {
   "cell_type": "code",
   "execution_count": 3,
   "id": "f3cdc4f9",
   "metadata": {},
   "outputs": [],
   "source": [
    "lines = data.splitlines()\n",
    "chunks = []\n",
    "current_chunk = \"\"\n",
    "\n",
    "for line in lines:\n",
    "    if line.startswith(\"06_SDA_\"):\n",
    "        chunks.append(current_chunk)\n",
    "        current_chunk = line\n",
    "    else:\n",
    "        current_chunk += \"\\n\" + line\n",
    "chunks.append(current_chunk)\n",
    "chunks = [chunk.strip() for chunk in chunks if chunk.strip()]"
   ]
  },
  {
   "cell_type": "code",
   "execution_count": 21,
   "id": "5a1aa2e4",
   "metadata": {},
   "outputs": [
    {
     "name": "stdout",
     "output_type": "stream",
     "text": [
      "Number of chunks: 16\n",
      "\n"
     ]
    }
   ],
   "source": [
    "print(f\"Number of chunks: {len(chunks)}\\n\")"
   ]
  },
  {
   "cell_type": "markdown",
   "id": "25f71c70",
   "metadata": {},
   "source": [
    "## Run the Chunks through a Model"
   ]
  },
  {
   "cell_type": "markdown",
   "id": "205cc688",
   "metadata": {},
   "source": [
    "Question: How does the sentiment of participant’s diary entries change over the course of the 9-weeks?"
   ]
  },
  {
   "cell_type": "code",
   "execution_count": 22,
   "id": "bd3c3f7a",
   "metadata": {},
   "outputs": [
    {
     "name": "stdout",
     "output_type": "stream",
     "text": [
      "Sentiment for chunk 0: hopeful\n",
      "Sentiment for chunk 1: hopeful\n",
      "Sentiment for chunk 2: hopeful\n",
      "Sentiment for chunk 3: hopeful\n",
      "Sentiment for chunk 4: hopeful\n",
      "Sentiment for chunk 5: pessimistic\n",
      "Sentiment for chunk 6: hopeful\n",
      "Sentiment for chunk 7: hopeful\n",
      "Sentiment for chunk 8: hopeful\n",
      "Sentiment for chunk 9: hopeful\n",
      "Sentiment for chunk 10: hopeful\n",
      "Sentiment for chunk 11: hopeful\n",
      "Sentiment for chunk 12: hopeful\n",
      "Sentiment for chunk 13: hopeful\n",
      "Sentiment for chunk 14: pessimistic\n",
      "Sentiment for chunk 15: hopeful\n"
     ]
    }
   ],
   "source": [
    "class Sentiment(BaseModel):\n",
    "    # restrict value to \"hopeful\" or \"pessimistic\"\n",
    "    sentiment: Literal[\"hopeful\", \"pessimistic\"]\n",
    "\n",
    "\n",
    "model = llm.get_model(\"gpt-4o-mini\")\n",
    "for i, chunk in enumerate(chunks):\n",
    "    response = model.prompt(\n",
    "        chunk,\n",
    "        system=\"What is the sentiment of the following text? Is it hopeful or pessimistic?\",\n",
    "        schema=Sentiment,\n",
    "    )\n",
    "    sentiment = json.loads(response.text())\n",
    "    print(f\"Sentiment for chunk {i}: {sentiment['sentiment']}\")"
   ]
  },
  {
   "cell_type": "code",
   "execution_count": 24,
   "id": "e3d5493b",
   "metadata": {},
   "outputs": [
    {
     "name": "stdout",
     "output_type": "stream",
     "text": [
      "06_SDA_07102023.m4a [Week 4A] [00:00:00 - 00:02:34]\n",
      "Speaker 1: So this weekend I lost a lot of time \n"
     ]
    }
   ],
   "source": [
    "print(chunks[5][:100])"
   ]
  }
 ],
 "metadata": {
  "kernelspec": {
   "display_name": "Python 3",
   "language": "python",
   "name": "python3"
  },
  "language_info": {
   "codemirror_mode": {
    "name": "ipython",
    "version": 3
   },
   "file_extension": ".py",
   "mimetype": "text/x-python",
   "name": "python",
   "nbconvert_exporter": "python",
   "pygments_lexer": "ipython3",
   "version": "3.13.3"
  }
 },
 "nbformat": 4,
 "nbformat_minor": 5
}
