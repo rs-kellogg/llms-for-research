{
 "cells": [
  {
   "cell_type": "code",
   "execution_count": null,
   "id": "cee4c63c",
   "metadata": {},
   "outputs": [],
   "source": [
    "from pathlib import Path\n",
    "import llm\n",
    "import json\n",
    "from pydantic import BaseModel\n",
    "from typing import Literal"
   ]
  },
  {
   "cell_type": "markdown",
   "id": "e05408d1",
   "metadata": {},
   "source": [
    "## Load and Parse the Datafile"
   ]
  },
  {
   "cell_type": "code",
   "execution_count": 2,
   "id": "438832b7",
   "metadata": {},
   "outputs": [],
   "source": [
    "data_file = Path(\"./data/Copy_of_2306_SDA_Story.txt\")\n",
    "assert data_file.exists(), f\"Data file {data_file} does not exist.\"\n",
    "data = data_file.read_text(encoding=\"utf-8\")"
   ]
  },
  {
   "cell_type": "code",
   "execution_count": 3,
   "id": "f3cdc4f9",
   "metadata": {},
   "outputs": [],
   "source": [
    "lines = data.splitlines()\n",
    "chunks = []\n",
    "current_chunk = \"\"\n",
    "\n",
    "for line in lines:\n",
    "    if line.startswith(\"06_SDA_\"):\n",
    "        chunks.append(current_chunk)\n",
    "        current_chunk = line\n",
    "    else:\n",
    "        current_chunk += \"\\n\" + line\n",
    "chunks.append(current_chunk)\n",
    "chunks = [chunk.strip() for chunk in chunks if chunk.strip()]"
   ]
  },
  {
   "cell_type": "code",
   "execution_count": 7,
   "id": "5a1aa2e4",
   "metadata": {},
   "outputs": [
    {
     "name": "stdout",
     "output_type": "stream",
     "text": [
      "Number of chunks: 16\n",
      "\n",
      "First chunk:\n",
      "\n",
      "06_SDA_06232023.m4a [Week 1] [00:00:00 - 00:01:05]\n",
      "Speaker 1: During my time at [the program], I hope to learn how to work\n",
      "in a company and also understand what it's like to work in a corporate\n",
      "environment. I also want to learn as much as they can from my\n",
      "instructors, which I've met here at [THE PROGRAM]. Personally, I want to\n",
      "improve my skills in my profession of choice, which is design. I also\n",
      "want to improve my social skills, which also branches towards like\n",
      "professionalism. I've heard like a lot of times like this word in like\n",
      "professional and like education environments where everyone says, Oh\n",
      "yeah, you gotta you got to network with other people. like networking\n",
      "for some reason is always like very important as I heard. and I hope I\n",
      "can do that here at [the program]. maybe I hope that I can be\n",
      "comfortable enough with myself and in the environment to talk with other\n",
      "people and grow like, um, social wise.\n"
     ]
    }
   ],
   "source": [
    "print(f\"Number of chunks: {len(chunks)}\\n\")\n",
    "print(f\"First chunk:\\n\\n{chunks[0]}\")"
   ]
  },
  {
   "cell_type": "markdown",
   "id": "25f71c70",
   "metadata": {},
   "source": [
    "## Run the Chunks through a Model"
   ]
  },
  {
   "cell_type": "markdown",
   "id": "205cc688",
   "metadata": {},
   "source": [
    "### Question: \n",
    "\n",
    "How does the sentiment of participant’s diary entries change over the course of the 9-weeks?"
   ]
  },
  {
   "cell_type": "code",
   "execution_count": null,
   "id": "bd3c3f7a",
   "metadata": {},
   "outputs": [
    {
     "name": "stdout",
     "output_type": "stream",
     "text": [
      "Sentiment for chunk 0: hopeful\n",
      "Sentiment for chunk 1: hopeful\n",
      "Sentiment for chunk 2: hopeful\n",
      "Sentiment for chunk 3: hopeful\n",
      "Sentiment for chunk 4: hopeful\n",
      "Sentiment for chunk 5: pessimistic\n",
      "Sentiment for chunk 6: hopeful\n",
      "Sentiment for chunk 7: hopeful\n",
      "Sentiment for chunk 8: hopeful\n",
      "Sentiment for chunk 9: hopeful\n",
      "Sentiment for chunk 10: hopeful\n",
      "Sentiment for chunk 11: hopeful\n",
      "Sentiment for chunk 12: hopeful\n",
      "Sentiment for chunk 13: hopeful\n",
      "Sentiment for chunk 14: pessimistic\n",
      "Sentiment for chunk 15: hopeful\n"
     ]
    }
   ],
   "source": [
    "class Sentiment(BaseModel):\n",
    "    # restrict value to \"hopeful\" or \"pessimistic\"\n",
    "    sentiment: Literal[\"hopeful\", \"pessimistic\"]\n",
    "\n",
    "\n",
    "model = llm.get_model(\"gpt-4o-mini\")\n",
    "for i, chunk in enumerate(chunks):\n",
    "    response = model.prompt(\n",
    "        chunk,\n",
    "        system=\"What is the senbtiment of the following text? Is it hopeful or pessimistic?\",\n",
    "        schema=Sentiment,\n",
    "    )\n",
    "    sentiment = json.loads(response.text())\n",
    "    print(f\"Sentiment for chunk {i}: {sentiment['sentiment']}\")"
   ]
  },
  {
   "cell_type": "code",
   "execution_count": 20,
   "id": "e3d5493b",
   "metadata": {},
   "outputs": [
    {
     "name": "stdout",
     "output_type": "stream",
     "text": [
      "06_SDA_07102023.m4a [Week 4A] [00:00:00 - 00:02:34]\n",
      "Speaker 1: So this weekend I lost a lot of time because I had to leave\n",
      "my house. It was being painted over. I had to turn off the Wi-Fi. So I\n",
      "lost a whole day of work I could have done. let’s see, that was actually\n",
      "one of my goals this week, which was to start a new portfolio that I\n",
      "promised I would make, as well as making a new resumé with a better\n",
      "design. And also, I wanted to start my LinkedIn page. and obviously I\n",
      "need to turn in all work by Friday as well for class work core\n",
      "curriculum. There's also a lot of pressure right now to do well with\n",
      "that specific project due to the fact that now there's like more people\n",
      "looking over my shoulder [indistinct] they are the, the two new people\n",
      "are like from Royal College of the Arts. So I’m gonna have to make\n",
      "something that looks halfway decent, hopefully. And for things I'm\n",
      "looking forward to. I'm looking forward to meeting up with my mentor\n",
      "again. because now that we're starting off with work related topics, I\n",
      "will have to work out that resumé and that website, which she will be\n",
      "giving me advice about that. There are also some presenters from Royal\n",
      "College of the Arts. and hopefully, hopefully I can actually like talk\n",
      "to them a little bit. and maybe they can teach me something or maybe\n",
      "give me some feedback. I am looking forward to that. I think the best\n",
      "way to describe most of my weeks so far has been that time has not been\n",
      "on my side for most of those weeks, and also that I've probably been\n",
      "holding myself back as well. It seems like every time I try to come up\n",
      "with something or solve something, it doesn't, I keep forgetting or have\n",
      "difficulties coming up with something in the moment when it's most\n",
      "important, if that makes any sense.\n"
     ]
    }
   ],
   "source": [
    "print(chunks[5])"
   ]
  },
  {
   "cell_type": "code",
   "execution_count": null,
   "id": "6a28d114",
   "metadata": {},
   "outputs": [],
   "source": []
  }
 ],
 "metadata": {
  "kernelspec": {
   "display_name": "Python 3",
   "language": "python",
   "name": "python3"
  },
  "language_info": {
   "codemirror_mode": {
    "name": "ipython",
    "version": 3
   },
   "file_extension": ".py",
   "mimetype": "text/x-python",
   "name": "python",
   "nbconvert_exporter": "python",
   "pygments_lexer": "ipython3",
   "version": "3.13.3"
  }
 },
 "nbformat": 4,
 "nbformat_minor": 5
}
